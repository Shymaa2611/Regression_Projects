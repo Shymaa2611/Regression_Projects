{
 "cells": [
  {
   "cell_type": "code",
   "execution_count": 1,
   "id": "3e09040e",
   "metadata": {},
   "outputs": [],
   "source": [
    "import pandas as pd\n",
    "import numpy as np"
   ]
  },
  {
   "cell_type": "code",
   "execution_count": 273,
   "id": "a4e7f311",
   "metadata": {},
   "outputs": [],
   "source": [
    "data=pd.read_csv('D:\\\\PythonProjects\\\\machine\\\\Machine\\\\P14-Part2-Regression\\\\Section 6 - Simple Linear Regression\\\\Python\\\\Salary_Data.csv')"
   ]
  },
  {
   "cell_type": "code",
   "execution_count": 274,
   "id": "d14fe2b2",
   "metadata": {},
   "outputs": [
    {
     "data": {
      "text/html": [
       "<div>\n",
       "<style scoped>\n",
       "    .dataframe tbody tr th:only-of-type {\n",
       "        vertical-align: middle;\n",
       "    }\n",
       "\n",
       "    .dataframe tbody tr th {\n",
       "        vertical-align: top;\n",
       "    }\n",
       "\n",
       "    .dataframe thead th {\n",
       "        text-align: right;\n",
       "    }\n",
       "</style>\n",
       "<table border=\"1\" class=\"dataframe\">\n",
       "  <thead>\n",
       "    <tr style=\"text-align: right;\">\n",
       "      <th></th>\n",
       "      <th>YearsExperience</th>\n",
       "      <th>Salary</th>\n",
       "    </tr>\n",
       "  </thead>\n",
       "  <tbody>\n",
       "    <tr>\n",
       "      <th>0</th>\n",
       "      <td>1.1</td>\n",
       "      <td>39343.0</td>\n",
       "    </tr>\n",
       "    <tr>\n",
       "      <th>1</th>\n",
       "      <td>1.3</td>\n",
       "      <td>46205.0</td>\n",
       "    </tr>\n",
       "    <tr>\n",
       "      <th>2</th>\n",
       "      <td>1.5</td>\n",
       "      <td>37731.0</td>\n",
       "    </tr>\n",
       "    <tr>\n",
       "      <th>3</th>\n",
       "      <td>2.0</td>\n",
       "      <td>43525.0</td>\n",
       "    </tr>\n",
       "    <tr>\n",
       "      <th>4</th>\n",
       "      <td>2.2</td>\n",
       "      <td>39891.0</td>\n",
       "    </tr>\n",
       "  </tbody>\n",
       "</table>\n",
       "</div>"
      ],
      "text/plain": [
       "   YearsExperience   Salary\n",
       "0              1.1  39343.0\n",
       "1              1.3  46205.0\n",
       "2              1.5  37731.0\n",
       "3              2.0  43525.0\n",
       "4              2.2  39891.0"
      ]
     },
     "execution_count": 274,
     "metadata": {},
     "output_type": "execute_result"
    }
   ],
   "source": [
    "data.head()"
   ]
  },
  {
   "cell_type": "code",
   "execution_count": 275,
   "id": "c5de1005",
   "metadata": {},
   "outputs": [
    {
     "data": {
      "text/html": [
       "<div>\n",
       "<style scoped>\n",
       "    .dataframe tbody tr th:only-of-type {\n",
       "        vertical-align: middle;\n",
       "    }\n",
       "\n",
       "    .dataframe tbody tr th {\n",
       "        vertical-align: top;\n",
       "    }\n",
       "\n",
       "    .dataframe thead th {\n",
       "        text-align: right;\n",
       "    }\n",
       "</style>\n",
       "<table border=\"1\" class=\"dataframe\">\n",
       "  <thead>\n",
       "    <tr style=\"text-align: right;\">\n",
       "      <th></th>\n",
       "      <th>YearsExperience</th>\n",
       "      <th>Salary</th>\n",
       "    </tr>\n",
       "  </thead>\n",
       "  <tbody>\n",
       "    <tr>\n",
       "      <th>25</th>\n",
       "      <td>9.0</td>\n",
       "      <td>105582.0</td>\n",
       "    </tr>\n",
       "    <tr>\n",
       "      <th>26</th>\n",
       "      <td>9.5</td>\n",
       "      <td>116969.0</td>\n",
       "    </tr>\n",
       "    <tr>\n",
       "      <th>27</th>\n",
       "      <td>9.6</td>\n",
       "      <td>112635.0</td>\n",
       "    </tr>\n",
       "    <tr>\n",
       "      <th>28</th>\n",
       "      <td>10.3</td>\n",
       "      <td>122391.0</td>\n",
       "    </tr>\n",
       "    <tr>\n",
       "      <th>29</th>\n",
       "      <td>10.5</td>\n",
       "      <td>121872.0</td>\n",
       "    </tr>\n",
       "  </tbody>\n",
       "</table>\n",
       "</div>"
      ],
      "text/plain": [
       "    YearsExperience    Salary\n",
       "25              9.0  105582.0\n",
       "26              9.5  116969.0\n",
       "27              9.6  112635.0\n",
       "28             10.3  122391.0\n",
       "29             10.5  121872.0"
      ]
     },
     "execution_count": 275,
     "metadata": {},
     "output_type": "execute_result"
    }
   ],
   "source": [
    "data.tail()"
   ]
  },
  {
   "cell_type": "code",
   "execution_count": 276,
   "id": "f246bab8",
   "metadata": {},
   "outputs": [
    {
     "data": {
      "text/html": [
       "<div>\n",
       "<style scoped>\n",
       "    .dataframe tbody tr th:only-of-type {\n",
       "        vertical-align: middle;\n",
       "    }\n",
       "\n",
       "    .dataframe tbody tr th {\n",
       "        vertical-align: top;\n",
       "    }\n",
       "\n",
       "    .dataframe thead th {\n",
       "        text-align: right;\n",
       "    }\n",
       "</style>\n",
       "<table border=\"1\" class=\"dataframe\">\n",
       "  <thead>\n",
       "    <tr style=\"text-align: right;\">\n",
       "      <th></th>\n",
       "      <th>YearsExperience</th>\n",
       "      <th>Salary</th>\n",
       "    </tr>\n",
       "  </thead>\n",
       "  <tbody>\n",
       "    <tr>\n",
       "      <th>count</th>\n",
       "      <td>30.000000</td>\n",
       "      <td>30.000000</td>\n",
       "    </tr>\n",
       "    <tr>\n",
       "      <th>mean</th>\n",
       "      <td>5.313333</td>\n",
       "      <td>76003.000000</td>\n",
       "    </tr>\n",
       "    <tr>\n",
       "      <th>std</th>\n",
       "      <td>2.837888</td>\n",
       "      <td>27414.429785</td>\n",
       "    </tr>\n",
       "    <tr>\n",
       "      <th>min</th>\n",
       "      <td>1.100000</td>\n",
       "      <td>37731.000000</td>\n",
       "    </tr>\n",
       "    <tr>\n",
       "      <th>25%</th>\n",
       "      <td>3.200000</td>\n",
       "      <td>56720.750000</td>\n",
       "    </tr>\n",
       "    <tr>\n",
       "      <th>50%</th>\n",
       "      <td>4.700000</td>\n",
       "      <td>65237.000000</td>\n",
       "    </tr>\n",
       "    <tr>\n",
       "      <th>75%</th>\n",
       "      <td>7.700000</td>\n",
       "      <td>100544.750000</td>\n",
       "    </tr>\n",
       "    <tr>\n",
       "      <th>max</th>\n",
       "      <td>10.500000</td>\n",
       "      <td>122391.000000</td>\n",
       "    </tr>\n",
       "  </tbody>\n",
       "</table>\n",
       "</div>"
      ],
      "text/plain": [
       "       YearsExperience         Salary\n",
       "count        30.000000      30.000000\n",
       "mean          5.313333   76003.000000\n",
       "std           2.837888   27414.429785\n",
       "min           1.100000   37731.000000\n",
       "25%           3.200000   56720.750000\n",
       "50%           4.700000   65237.000000\n",
       "75%           7.700000  100544.750000\n",
       "max          10.500000  122391.000000"
      ]
     },
     "execution_count": 276,
     "metadata": {},
     "output_type": "execute_result"
    }
   ],
   "source": [
    "data.describe()"
   ]
  },
  {
   "cell_type": "code",
   "execution_count": 277,
   "id": "a6a1202e",
   "metadata": {},
   "outputs": [
    {
     "data": {
      "text/plain": [
       "YearsExperience  Salary  \n",
       "1.1              39343.0     1\n",
       "1.3              46205.0     1\n",
       "10.3             122391.0    1\n",
       "9.6              112635.0    1\n",
       "9.5              116969.0    1\n",
       "9.0              105582.0    1\n",
       "8.7              109431.0    1\n",
       "8.2              113812.0    1\n",
       "7.9              101302.0    1\n",
       "7.1              98273.0     1\n",
       "6.8              91738.0     1\n",
       "6.0              93940.0     1\n",
       "5.9              81363.0     1\n",
       "5.3              83088.0     1\n",
       "5.1              66029.0     1\n",
       "4.9              67938.0     1\n",
       "4.5              61111.0     1\n",
       "4.1              57081.0     1\n",
       "4.0              56957.0     1\n",
       "                 55794.0     1\n",
       "3.9              63218.0     1\n",
       "3.7              57189.0     1\n",
       "3.2              64445.0     1\n",
       "                 54445.0     1\n",
       "3.0              60150.0     1\n",
       "2.9              56642.0     1\n",
       "2.2              39891.0     1\n",
       "2.0              43525.0     1\n",
       "1.5              37731.0     1\n",
       "10.5             121872.0    1\n",
       "dtype: int64"
      ]
     },
     "execution_count": 277,
     "metadata": {},
     "output_type": "execute_result"
    }
   ],
   "source": [
    "data.value_counts()"
   ]
  },
  {
   "cell_type": "code",
   "execution_count": 278,
   "id": "007539cd",
   "metadata": {},
   "outputs": [
    {
     "name": "stdout",
     "output_type": "stream",
     "text": [
      "<class 'pandas.core.frame.DataFrame'>\n",
      "RangeIndex: 30 entries, 0 to 29\n",
      "Data columns (total 2 columns):\n",
      " #   Column           Non-Null Count  Dtype  \n",
      "---  ------           --------------  -----  \n",
      " 0   YearsExperience  30 non-null     float64\n",
      " 1   Salary           30 non-null     float64\n",
      "dtypes: float64(2)\n",
      "memory usage: 608.0 bytes\n"
     ]
    }
   ],
   "source": [
    "data.info()"
   ]
  },
  {
   "cell_type": "code",
   "execution_count": 279,
   "id": "303303b4",
   "metadata": {},
   "outputs": [
    {
     "data": {
      "text/plain": [
       "(array([ 0.,  2.,  4.,  6.,  8., 10., 12.]),\n",
       " [Text(0, 0, ''),\n",
       "  Text(0, 0, ''),\n",
       "  Text(0, 0, ''),\n",
       "  Text(0, 0, ''),\n",
       "  Text(0, 0, ''),\n",
       "  Text(0, 0, ''),\n",
       "  Text(0, 0, '')])"
      ]
     },
     "execution_count": 279,
     "metadata": {},
     "output_type": "execute_result"
    },
    {
     "data": {
      "image/png": "[encoded data removed]",
      "text/plain": [
       "<Figure size 432x288 with 1 Axes>"
      ]
     },
     "metadata": {
      "needs_background": "light"
     },
     "output_type": "display_data"
    }
   ],
   "source": [
    "import matplotlib.pyplot as plt\n",
    "\n",
    "plt.bar(data['YearsExperience'], data['Salary'], color ='blue',\n",
    "        width = 0.4)\n",
    "plt.xticks(rotation=90)"
   ]
  },
  {
   "cell_type": "code",
   "execution_count": 280,
   "id": "48455d86",
   "metadata": {},
   "outputs": [],
   "source": [
    "#Scaling Data using maximum"
   ]
  },
  {
   "cell_type": "code",
   "execution_count": 281,
   "id": "f6156bd3",
   "metadata": {},
   "outputs": [],
   "source": [
    "data=data/data.max()"
   ]
  },
  {
   "cell_type": "code",
   "execution_count": 282,
   "id": "f408b549",
   "metadata": {},
   "outputs": [
    {
     "data": {
      "text/html": [
       "<div>\n",
       "<style scoped>\n",
       "    .dataframe tbody tr th:only-of-type {\n",
       "        vertical-align: middle;\n",
       "    }\n",
       "\n",
       "    .dataframe tbody tr th {\n",
       "        vertical-align: top;\n",
       "    }\n",
       "\n",
       "    .dataframe thead th {\n",
       "        text-align: right;\n",
       "    }\n",
       "</style>\n",
       "<table border=\"1\" class=\"dataframe\">\n",
       "  <thead>\n",
       "    <tr style=\"text-align: right;\">\n",
       "      <th></th>\n",
       "      <th>YearsExperience</th>\n",
       "      <th>Salary</th>\n",
       "    </tr>\n",
       "  </thead>\n",
       "  <tbody>\n",
       "    <tr>\n",
       "      <th>0</th>\n",
       "      <td>0.104762</td>\n",
       "      <td>0.321453</td>\n",
       "    </tr>\n",
       "    <tr>\n",
       "      <th>1</th>\n",
       "      <td>0.123810</td>\n",
       "      <td>0.377520</td>\n",
       "    </tr>\n",
       "    <tr>\n",
       "      <th>2</th>\n",
       "      <td>0.142857</td>\n",
       "      <td>0.308282</td>\n",
       "    </tr>\n",
       "    <tr>\n",
       "      <th>3</th>\n",
       "      <td>0.190476</td>\n",
       "      <td>0.355623</td>\n",
       "    </tr>\n",
       "    <tr>\n",
       "      <th>4</th>\n",
       "      <td>0.209524</td>\n",
       "      <td>0.325931</td>\n",
       "    </tr>\n",
       "    <tr>\n",
       "      <th>5</th>\n",
       "      <td>0.276190</td>\n",
       "      <td>0.462795</td>\n",
       "    </tr>\n",
       "    <tr>\n",
       "      <th>6</th>\n",
       "      <td>0.285714</td>\n",
       "      <td>0.491458</td>\n",
       "    </tr>\n",
       "    <tr>\n",
       "      <th>7</th>\n",
       "      <td>0.304762</td>\n",
       "      <td>0.444845</td>\n",
       "    </tr>\n",
       "    <tr>\n",
       "      <th>8</th>\n",
       "      <td>0.304762</td>\n",
       "      <td>0.526550</td>\n",
       "    </tr>\n",
       "    <tr>\n",
       "      <th>9</th>\n",
       "      <td>0.352381</td>\n",
       "      <td>0.467265</td>\n",
       "    </tr>\n",
       "    <tr>\n",
       "      <th>10</th>\n",
       "      <td>0.371429</td>\n",
       "      <td>0.516525</td>\n",
       "    </tr>\n",
       "    <tr>\n",
       "      <th>11</th>\n",
       "      <td>0.380952</td>\n",
       "      <td>0.455867</td>\n",
       "    </tr>\n",
       "    <tr>\n",
       "      <th>12</th>\n",
       "      <td>0.380952</td>\n",
       "      <td>0.465369</td>\n",
       "    </tr>\n",
       "    <tr>\n",
       "      <th>13</th>\n",
       "      <td>0.390476</td>\n",
       "      <td>0.466382</td>\n",
       "    </tr>\n",
       "    <tr>\n",
       "      <th>14</th>\n",
       "      <td>0.428571</td>\n",
       "      <td>0.499310</td>\n",
       "    </tr>\n",
       "    <tr>\n",
       "      <th>15</th>\n",
       "      <td>0.466667</td>\n",
       "      <td>0.555090</td>\n",
       "    </tr>\n",
       "    <tr>\n",
       "      <th>16</th>\n",
       "      <td>0.485714</td>\n",
       "      <td>0.539492</td>\n",
       "    </tr>\n",
       "    <tr>\n",
       "      <th>17</th>\n",
       "      <td>0.504762</td>\n",
       "      <td>0.678873</td>\n",
       "    </tr>\n",
       "    <tr>\n",
       "      <th>18</th>\n",
       "      <td>0.561905</td>\n",
       "      <td>0.664779</td>\n",
       "    </tr>\n",
       "    <tr>\n",
       "      <th>19</th>\n",
       "      <td>0.571429</td>\n",
       "      <td>0.767540</td>\n",
       "    </tr>\n",
       "    <tr>\n",
       "      <th>20</th>\n",
       "      <td>0.647619</td>\n",
       "      <td>0.749549</td>\n",
       "    </tr>\n",
       "    <tr>\n",
       "      <th>21</th>\n",
       "      <td>0.676190</td>\n",
       "      <td>0.802943</td>\n",
       "    </tr>\n",
       "    <tr>\n",
       "      <th>22</th>\n",
       "      <td>0.752381</td>\n",
       "      <td>0.827692</td>\n",
       "    </tr>\n",
       "    <tr>\n",
       "      <th>23</th>\n",
       "      <td>0.780952</td>\n",
       "      <td>0.929905</td>\n",
       "    </tr>\n",
       "    <tr>\n",
       "      <th>24</th>\n",
       "      <td>0.828571</td>\n",
       "      <td>0.894110</td>\n",
       "    </tr>\n",
       "    <tr>\n",
       "      <th>25</th>\n",
       "      <td>0.857143</td>\n",
       "      <td>0.862661</td>\n",
       "    </tr>\n",
       "    <tr>\n",
       "      <th>26</th>\n",
       "      <td>0.904762</td>\n",
       "      <td>0.955699</td>\n",
       "    </tr>\n",
       "    <tr>\n",
       "      <th>27</th>\n",
       "      <td>0.914286</td>\n",
       "      <td>0.920288</td>\n",
       "    </tr>\n",
       "    <tr>\n",
       "      <th>28</th>\n",
       "      <td>0.980952</td>\n",
       "      <td>1.000000</td>\n",
       "    </tr>\n",
       "    <tr>\n",
       "      <th>29</th>\n",
       "      <td>1.000000</td>\n",
       "      <td>0.995759</td>\n",
       "    </tr>\n",
       "  </tbody>\n",
       "</table>\n",
       "</div>"
      ],
      "text/plain": [
       "    YearsExperience    Salary\n",
       "0          0.104762  0.321453\n",
       "1          0.123810  0.377520\n",
       "2          0.142857  0.308282\n",
       "3          0.190476  0.355623\n",
       "4          0.209524  0.325931\n",
       "5          0.276190  0.462795\n",
       "6          0.285714  0.491458\n",
       "7          0.304762  0.444845\n",
       "8          0.304762  0.526550\n",
       "9          0.352381  0.467265\n",
       "10         0.371429  0.516525\n",
       "11         0.380952  0.455867\n",
       "12         0.380952  0.465369\n",
       "13         0.390476  0.466382\n",
       "14         0.428571  0.499310\n",
       "15         0.466667  0.555090\n",
       "16         0.485714  0.539492\n",
       "17         0.504762  0.678873\n",
       "18         0.561905  0.664779\n",
       "19         0.571429  0.767540\n",
       "20         0.647619  0.749549\n",
       "21         0.676190  0.802943\n",
       "22         0.752381  0.827692\n",
       "23         0.780952  0.929905\n",
       "24         0.828571  0.894110\n",
       "25         0.857143  0.862661\n",
       "26         0.904762  0.955699\n",
       "27         0.914286  0.920288\n",
       "28         0.980952  1.000000\n",
       "29         1.000000  0.995759"
      ]
     },
     "execution_count": 282,
     "metadata": {},
     "output_type": "execute_result"
    }
   ],
   "source": [
    "data"
   ]
  },
  {
   "cell_type": "code",
   "execution_count": 283,
   "id": "5578f93c",
   "metadata": {},
   "outputs": [],
   "source": [
    "x=data['YearsExperience']"
   ]
  },
  {
   "cell_type": "code",
   "execution_count": 284,
   "id": "36490367",
   "metadata": {},
   "outputs": [
    {
     "data": {
      "text/plain": [
       "0     0.104762\n",
       "1     0.123810\n",
       "2     0.142857\n",
       "3     0.190476\n",
       "4     0.209524\n",
       "5     0.276190\n",
       "6     0.285714\n",
       "7     0.304762\n",
       "8     0.304762\n",
       "9     0.352381\n",
       "10    0.371429\n",
       "11    0.380952\n",
       "12    0.380952\n",
       "13    0.390476\n",
       "14    0.428571\n",
       "15    0.466667\n",
       "16    0.485714\n",
       "17    0.504762\n",
       "18    0.561905\n",
       "19    0.571429\n",
       "20    0.647619\n",
       "21    0.676190\n",
       "22    0.752381\n",
       "23    0.780952\n",
       "24    0.828571\n",
       "25    0.857143\n",
       "26    0.904762\n",
       "27    0.914286\n",
       "28    0.980952\n",
       "29    1.000000\n",
       "Name: YearsExperience, dtype: float64"
      ]
     },
     "execution_count": 284,
     "metadata": {},
     "output_type": "execute_result"
    }
   ],
   "source": [
    "x"
   ]
  },
  {
   "cell_type": "code",
   "execution_count": 285,
   "id": "31e9abb8",
   "metadata": {},
   "outputs": [],
   "source": [
    "y=data['Salary']"
   ]
  },
  {
   "cell_type": "code",
   "execution_count": 286,
   "id": "46a730cd",
   "metadata": {},
   "outputs": [
    {
     "data": {
      "text/plain": [
       "0     0.321453\n",
       "1     0.377520\n",
       "2     0.308282\n",
       "3     0.355623\n",
       "4     0.325931\n",
       "5     0.462795\n",
       "6     0.491458\n",
       "7     0.444845\n",
       "8     0.526550\n",
       "9     0.467265\n",
       "10    0.516525\n",
       "11    0.455867\n",
       "12    0.465369\n",
       "13    0.466382\n",
       "14    0.499310\n",
       "15    0.555090\n",
       "16    0.539492\n",
       "17    0.678873\n",
       "18    0.664779\n",
       "19    0.767540\n",
       "20    0.749549\n",
       "21    0.802943\n",
       "22    0.827692\n",
       "23    0.929905\n",
       "24    0.894110\n",
       "25    0.862661\n",
       "26    0.955699\n",
       "27    0.920288\n",
       "28    1.000000\n",
       "29    0.995759\n",
       "Name: Salary, dtype: float64"
      ]
     },
     "execution_count": 286,
     "metadata": {},
     "output_type": "execute_result"
    }
   ],
   "source": [
    "y"
   ]
  },
  {
   "cell_type": "code",
   "execution_count": 287,
   "id": "a20a37c2",
   "metadata": {},
   "outputs": [],
   "source": [
    "#Gradient descent to get weights \n",
    "# h(X)=wx+b"
   ]
  },
  {
   "cell_type": "code",
   "execution_count": 288,
   "id": "01575d0c",
   "metadata": {},
   "outputs": [],
   "source": [
    "def Gradient_descent(w1,b,a):\n",
    "    sumation=b\n",
    "    m=len(data)\n",
    "    for iteration in range(10):\n",
    "        for i in range(m):\n",
    "            hx=w1*x[i]\n",
    "            sumation=sumation+(hx-y[i])\n",
    "    w1=w1-(a/m)*sumation\n",
    "    b=b-(a/m)*sumation\n",
    "    return w1,b        \n",
    "    "
   ]
  },
  {
   "cell_type": "code",
   "execution_count": 289,
   "id": "748007f3",
   "metadata": {},
   "outputs": [],
   "source": [
    "w1,b=Gradient_descent(2,1,0.1)"
   ]
  },
  {
   "cell_type": "code",
   "execution_count": 290,
   "id": "5d8e0d0c",
   "metadata": {},
   "outputs": [
    {
     "data": {
      "text/plain": [
       "1.6055883777635376"
      ]
     },
     "execution_count": 290,
     "metadata": {},
     "output_type": "execute_result"
    }
   ],
   "source": [
    "w1"
   ]
  },
  {
   "cell_type": "code",
   "execution_count": 291,
   "id": "190290c7",
   "metadata": {},
   "outputs": [
    {
     "data": {
      "text/plain": [
       "0.6055883777635376"
      ]
     },
     "execution_count": 291,
     "metadata": {},
     "output_type": "execute_result"
    }
   ],
   "source": [
    "b"
   ]
  },
  {
   "cell_type": "code",
   "execution_count": 292,
   "id": "9c742528",
   "metadata": {},
   "outputs": [],
   "source": [
    "#split data into (train-cross validation-test)"
   ]
  },
  {
   "cell_type": "code",
   "execution_count": 293,
   "id": "fd604f87",
   "metadata": {},
   "outputs": [
    {
     "data": {
      "text/plain": [
       "30"
      ]
     },
     "execution_count": 293,
     "metadata": {},
     "output_type": "execute_result"
    }
   ],
   "source": [
    "len(data)"
   ]
  },
  {
   "cell_type": "code",
   "execution_count": 294,
   "id": "a94d2dce",
   "metadata": {},
   "outputs": [],
   "source": [
    "X_train=x[:20]\n",
    "X_cv=x[20:25]\n",
    "X_test=x[25:]"
   ]
  },
  {
   "cell_type": "code",
   "execution_count": 295,
   "id": "b16f445b",
   "metadata": {},
   "outputs": [
    {
     "data": {
      "text/plain": [
       "0     0.104762\n",
       "1     0.123810\n",
       "2     0.142857\n",
       "3     0.190476\n",
       "4     0.209524\n",
       "5     0.276190\n",
       "6     0.285714\n",
       "7     0.304762\n",
       "8     0.304762\n",
       "9     0.352381\n",
       "10    0.371429\n",
       "11    0.380952\n",
       "12    0.380952\n",
       "13    0.390476\n",
       "14    0.428571\n",
       "15    0.466667\n",
       "16    0.485714\n",
       "17    0.504762\n",
       "18    0.561905\n",
       "19    0.571429\n",
       "Name: YearsExperience, dtype: float64"
      ]
     },
     "execution_count": 295,
     "metadata": {},
     "output_type": "execute_result"
    }
   ],
   "source": [
    "X_train"
   ]
  },
  {
   "cell_type": "code",
   "execution_count": 296,
   "id": "cabfce10",
   "metadata": {},
   "outputs": [
    {
     "data": {
      "text/plain": [
       "20    0.647619\n",
       "21    0.676190\n",
       "22    0.752381\n",
       "23    0.780952\n",
       "24    0.828571\n",
       "Name: YearsExperience, dtype: float64"
      ]
     },
     "execution_count": 296,
     "metadata": {},
     "output_type": "execute_result"
    }
   ],
   "source": [
    "X_cv"
   ]
  },
  {
   "cell_type": "code",
   "execution_count": 297,
   "id": "479fb324",
   "metadata": {},
   "outputs": [
    {
     "data": {
      "text/plain": [
       "25    0.857143\n",
       "26    0.904762\n",
       "27    0.914286\n",
       "28    0.980952\n",
       "29    1.000000\n",
       "Name: YearsExperience, dtype: float64"
      ]
     },
     "execution_count": 297,
     "metadata": {},
     "output_type": "execute_result"
    }
   ],
   "source": [
    "X_test"
   ]
  },
  {
   "cell_type": "code",
   "execution_count": 298,
   "id": "d3f76dc1",
   "metadata": {},
   "outputs": [],
   "source": [
    "y_train=y[:20]\n",
    "y_cv=y[20:25]\n",
    "y_test=y[25:]"
   ]
  },
  {
   "cell_type": "code",
   "execution_count": 299,
   "id": "ad58c423",
   "metadata": {},
   "outputs": [
    {
     "data": {
      "text/plain": [
       "0     0.321453\n",
       "1     0.377520\n",
       "2     0.308282\n",
       "3     0.355623\n",
       "4     0.325931\n",
       "5     0.462795\n",
       "6     0.491458\n",
       "7     0.444845\n",
       "8     0.526550\n",
       "9     0.467265\n",
       "10    0.516525\n",
       "11    0.455867\n",
       "12    0.465369\n",
       "13    0.466382\n",
       "14    0.499310\n",
       "15    0.555090\n",
       "16    0.539492\n",
       "17    0.678873\n",
       "18    0.664779\n",
       "19    0.767540\n",
       "Name: Salary, dtype: float64"
      ]
     },
     "execution_count": 299,
     "metadata": {},
     "output_type": "execute_result"
    }
   ],
   "source": [
    "y_train"
   ]
  },
  {
   "cell_type": "code",
   "execution_count": 300,
   "id": "65c43db9",
   "metadata": {},
   "outputs": [
    {
     "data": {
      "text/plain": [
       "20    0.749549\n",
       "21    0.802943\n",
       "22    0.827692\n",
       "23    0.929905\n",
       "24    0.894110\n",
       "Name: Salary, dtype: float64"
      ]
     },
     "execution_count": 300,
     "metadata": {},
     "output_type": "execute_result"
    }
   ],
   "source": [
    "y_cv"
   ]
  },
  {
   "cell_type": "code",
   "execution_count": 301,
   "id": "d3d5866b",
   "metadata": {},
   "outputs": [
    {
     "data": {
      "text/plain": [
       "25    0.862661\n",
       "26    0.955699\n",
       "27    0.920288\n",
       "28    1.000000\n",
       "29    0.995759\n",
       "Name: Salary, dtype: float64"
      ]
     },
     "execution_count": 301,
     "metadata": {},
     "output_type": "execute_result"
    }
   ],
   "source": [
    "y_test"
   ]
  },
  {
   "cell_type": "code",
   "execution_count": 302,
   "id": "303d3468",
   "metadata": {},
   "outputs": [],
   "source": [
    "#fit training dataset using  squared error cost"
   ]
  },
  {
   "cell_type": "code",
   "execution_count": 325,
   "id": "53ffe6e4",
   "metadata": {},
   "outputs": [],
   "source": [
    "def fit_train_dataset(lemda):\n",
    "    sumation=b\n",
    "    m=len(X_train)\n",
    "    for i in range(m):\n",
    "        fx=w1*X_train[i]\n",
    "        sumation=sumation+(fx - y_train[i])**2\n",
    "    cost_function=(1/(2*m))+sumation+(lemda/(2*m))*(b**2+w1**2)\n",
    "    return cost_function"
   ]
  },
  {
   "cell_type": "code",
   "execution_count": 326,
   "id": "6c1edc5d",
   "metadata": {},
   "outputs": [],
   "source": [
    "cost_function=fit_train_dataset(5)"
   ]
  },
  {
   "cell_type": "code",
   "execution_count": 327,
   "id": "a2a27cd9",
   "metadata": {},
   "outputs": [
    {
     "data": {
      "text/plain": [
       "1.3825355129864734"
      ]
     },
     "execution_count": 327,
     "metadata": {},
     "output_type": "execute_result"
    }
   ],
   "source": [
    "cost_function"
   ]
  },
  {
   "cell_type": "code",
   "execution_count": 328,
   "id": "a562b1e8",
   "metadata": {},
   "outputs": [],
   "source": [
    "#compute test error "
   ]
  },
  {
   "cell_type": "code",
   "execution_count": 329,
   "id": "8ce3fbd9",
   "metadata": {},
   "outputs": [],
   "source": [
    "X_test=list(X_test)"
   ]
  },
  {
   "cell_type": "code",
   "execution_count": 330,
   "id": "e9ba9429",
   "metadata": {},
   "outputs": [
    {
     "data": {
      "text/plain": [
       "[0.8571428571428571,\n",
       " 0.9047619047619048,\n",
       " 0.9142857142857143,\n",
       " 0.980952380952381,\n",
       " 1.0]"
      ]
     },
     "execution_count": 330,
     "metadata": {},
     "output_type": "execute_result"
    }
   ],
   "source": [
    "X_test"
   ]
  },
  {
   "cell_type": "code",
   "execution_count": 331,
   "id": "f9fb32f4",
   "metadata": {},
   "outputs": [],
   "source": [
    "y_test=list(y_test)"
   ]
  },
  {
   "cell_type": "code",
   "execution_count": 332,
   "id": "651bc577",
   "metadata": {},
   "outputs": [],
   "source": [
    "def test_error():\n",
    "    sumation=b\n",
    "    m=len(X_test)\n",
    "    for i in range(m):\n",
    "        fx=w1*X_test[i]\n",
    "        sumation=sumation+(fx - y_test[i])**2\n",
    "    cost_function=(1/(2*m))+sumation\n",
    "    return cost_function"
   ]
  },
  {
   "cell_type": "code",
   "execution_count": 333,
   "id": "9658a7c4",
   "metadata": {},
   "outputs": [],
   "source": [
    "testing_data_error=test_error()"
   ]
  },
  {
   "cell_type": "code",
   "execution_count": 334,
   "id": "efaed3ae",
   "metadata": {},
   "outputs": [
    {
     "data": {
      "text/plain": [
       "2.2187886505023617"
      ]
     },
     "execution_count": 334,
     "metadata": {},
     "output_type": "execute_result"
    }
   ],
   "source": [
    "testing_data_error"
   ]
  },
  {
   "cell_type": "code",
   "execution_count": 335,
   "id": "aa3b31f8",
   "metadata": {},
   "outputs": [],
   "source": [
    "X_cv=list(X_cv)\n",
    "y_cv=list(y_cv)"
   ]
  },
  {
   "cell_type": "code",
   "execution_count": 336,
   "id": "8ec1a332",
   "metadata": {},
   "outputs": [],
   "source": [
    "#compute cv error "
   ]
  },
  {
   "cell_type": "code",
   "execution_count": 337,
   "id": "9308cc12",
   "metadata": {},
   "outputs": [],
   "source": [
    "def cv_error():\n",
    "    sumation=b\n",
    "    m=len(X_cv)\n",
    "    for i in range(m):\n",
    "        fx=w1*X_cv[i]\n",
    "        sumation=sumation+(fx - y_cv[i])**2\n",
    "    cost_function=(1/(2*m))+sumation\n",
    "    return cost_function"
   ]
  },
  {
   "cell_type": "code",
   "execution_count": 338,
   "id": "4e31f6a1",
   "metadata": {},
   "outputs": [],
   "source": [
    "generalization_error=cv_error()"
   ]
  },
  {
   "cell_type": "code",
   "execution_count": 339,
   "id": "6ce033ac",
   "metadata": {},
   "outputs": [
    {
     "data": {
      "text/plain": [
       "1.3096931312990945"
      ]
     },
     "execution_count": 339,
     "metadata": {},
     "output_type": "execute_result"
    }
   ],
   "source": [
    "generalization_error"
   ]
  },
  {
   "cell_type": "code",
   "execution_count": 340,
   "id": "826b18a8",
   "metadata": {},
   "outputs": [],
   "source": [
    "#compute cv error "
   ]
  },
  {
   "cell_type": "code",
   "execution_count": 341,
   "id": "63eab365",
   "metadata": {},
   "outputs": [],
   "source": [
    "def train_error():\n",
    "    sumation=b\n",
    "    m=len(X_train)\n",
    "    for i in range(m):\n",
    "        fx=w1*X_train[i]\n",
    "        sumation=sumation+(fx - y_train[i])**2\n",
    "    cost_function=(1/(2*m))+sumation\n",
    "    return cost_function"
   ]
  },
  {
   "cell_type": "code",
   "execution_count": 342,
   "id": "b96ff118",
   "metadata": {},
   "outputs": [],
   "source": [
    "train_data_error=train_error()"
   ]
  },
  {
   "cell_type": "code",
   "execution_count": 343,
   "id": "9fc159d8",
   "metadata": {},
   "outputs": [
    {
     "data": {
      "text/plain": [
       "1.0144540977250207"
      ]
     },
     "execution_count": 343,
     "metadata": {},
     "output_type": "execute_result"
    }
   ],
   "source": [
    "train_data_error"
   ]
  },
  {
   "cell_type": "code",
   "execution_count": 344,
   "id": "b6c39765",
   "metadata": {},
   "outputs": [],
   "source": [
    "def prediction():\n",
    "    y_predict=[]\n",
    "    fx=b\n",
    "    m=len(X_test)\n",
    "    for i in range(m):\n",
    "        fx=fx+X_test[i]*w1\n",
    "        y_predict.append(fx)\n",
    "    return y_predict"
   ]
  },
  {
   "cell_type": "code",
   "execution_count": 345,
   "id": "f94b0c8c",
   "metadata": {},
   "outputs": [],
   "source": [
    "y_predict=prediction()"
   ]
  },
  {
   "cell_type": "code",
   "execution_count": 346,
   "id": "7a48b9fa",
   "metadata": {},
   "outputs": [
    {
     "data": {
      "text/plain": [
       "[1.9818069872751412,\n",
       " 3.434482186204056,\n",
       " 4.902448703016433,\n",
       " 6.477454445013047,\n",
       " 8.083042822776584]"
      ]
     },
     "execution_count": 346,
     "metadata": {},
     "output_type": "execute_result"
    }
   ],
   "source": [
    "y_predict"
   ]
  },
  {
   "cell_type": "code",
   "execution_count": null,
   "id": "d152bda5",
   "metadata": {},
   "outputs": [],
   "source": []
  },
  {
   "cell_type": "code",
   "execution_count": null,
   "id": "eadbc305",
   "metadata": {},
   "outputs": [],
   "source": []
  },
  {
   "cell_type": "code",
   "execution_count": null,
   "id": "39061077",
   "metadata": {},
   "outputs": [],
   "source": []
  },
  {
   "cell_type": "code",
   "execution_count": null,
   "id": "774da171",
   "metadata": {},
   "outputs": [],
   "source": []
  }
 ],
 "metadata": {
  "kernelspec": {
   "display_name": "Python 3 (ipykernel)",
   "language": "python",
   "name": "python3"
  },
  "language_info": {
   "codemirror_mode": {
    "name": "ipython",
    "version": 3
   },
   "file_extension": ".py",
   "mimetype": "text/x-python",
   "name": "python",
   "nbconvert_exporter": "python",
   "pygments_lexer": "ipython3",
   "version": "3.9.12"
  }
 },
 "nbformat": 4,
 "nbformat_minor": 5
}
